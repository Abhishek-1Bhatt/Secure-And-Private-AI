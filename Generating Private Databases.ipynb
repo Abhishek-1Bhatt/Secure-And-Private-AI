{
 "cells": [
  {
   "cell_type": "code",
   "execution_count": 1,
   "metadata": {},
   "outputs": [
    {
     "data": {
      "text/plain": [
       "tensor([ True,  True, False,  ...,  True,  True, False])"
      ]
     },
     "execution_count": 1,
     "metadata": {},
     "output_type": "execute_result"
    }
   ],
   "source": [
    "import torch\n",
    "\n",
    "# Here we start by creating the original Database with 5000 entries\n",
    "\n",
    "num_entries = 5000\n",
    "\n",
    "db = torch.rand(num_entries) > 0.5\n",
    "db"
   ]
  },
  {
   "cell_type": "code",
   "execution_count": 2,
   "metadata": {},
   "outputs": [
    {
     "data": {
      "text/plain": [
       "tensor([ True,  True, False,  True,  True])"
      ]
     },
     "execution_count": 2,
     "metadata": {},
     "output_type": "execute_result"
    }
   ],
   "source": [
    "# now we can obtain a parallel database by removing an entry from the database with the help of slicing and concatenation\n",
    "\n",
    "remove_index = 2 #index that we're gonna remove\n",
    "\n",
    "db[0:5] #first five entries of the database before slicing"
   ]
  },
  {
   "cell_type": "code",
   "execution_count": 3,
   "metadata": {},
   "outputs": [
    {
     "data": {
      "text/plain": [
       "tensor([True, True, True, True, True])"
      ]
     },
     "execution_count": 3,
     "metadata": {},
     "output_type": "execute_result"
    }
   ],
   "source": [
    "torch.cat((db[0:2], db[3:]))[0:5] #generates a parallel database"
   ]
  },
  {
   "cell_type": "code",
   "execution_count": 4,
   "metadata": {},
   "outputs": [],
   "source": [
    "# incorporating the above functionality in a function that we can call\n",
    "\n",
    "def get_parallel_db(db, remove_index):\n",
    "    return torch.cat((db[0:remove_index], db[remove_index+1:]))"
   ]
  },
  {
   "cell_type": "code",
   "execution_count": 6,
   "metadata": {},
   "outputs": [
    {
     "data": {
      "text/plain": [
       "torch.Size([4999])"
      ]
     },
     "execution_count": 6,
     "metadata": {},
     "output_type": "execute_result"
    }
   ],
   "source": [
    "get_parallel_db(db, 3) #testing our function"
   ]
  },
  {
   "cell_type": "code",
   "execution_count": 7,
   "metadata": {},
   "outputs": [],
   "source": [
    "# Now we write a function that goes through each element of our database \n",
    "# and generates a parallel database with that element removed\n",
    "# But first we create list for storing all the parallel databases\n",
    "\n",
    "def get_parallel_dbs(db):\n",
    "    \n",
    "    parallel_dbs = list()\n",
    "    \n",
    "    for i in range(len(db)):\n",
    "        pdb = get_parallel_db(db, i)\n",
    "        parallel_dbs.append(pdb)\n",
    "    \n",
    "    return parallel_dbs"
   ]
  },
  {
   "cell_type": "code",
   "execution_count": 8,
   "metadata": {},
   "outputs": [],
   "source": [
    "pdbs = get_parallel_dbs(db)"
   ]
  },
  {
   "cell_type": "code",
   "execution_count": 12,
   "metadata": {},
   "outputs": [
    {
     "data": {
      "text/plain": [
       "5000"
      ]
     },
     "execution_count": 12,
     "metadata": {},
     "output_type": "execute_result"
    }
   ],
   "source": [
    "len(pdbs)"
   ]
  },
  {
   "cell_type": "code",
   "execution_count": 13,
   "metadata": {},
   "outputs": [],
   "source": [
    "# Finally we incorporate all the above functionality into one function\n",
    "\n",
    "def create_db_and_parallels(num_entries):\n",
    "    \n",
    "    db = torch.rand(num_entries) > 0.5\n",
    "    \n",
    "    return get_parallel_dbs(db)"
   ]
  },
  {
   "cell_type": "code",
   "execution_count": 14,
   "metadata": {},
   "outputs": [],
   "source": [
    "pdbs = create_db_and_parallels(20)"
   ]
  },
  {
   "cell_type": "code",
   "execution_count": 15,
   "metadata": {},
   "outputs": [
    {
     "data": {
      "text/plain": [
       "[tensor([ True, False, False,  True, False,  True, False,  True,  True,  True,\n",
       "          True,  True, False,  True, False,  True,  True,  True,  True]),\n",
       " tensor([False, False, False,  True, False,  True, False,  True,  True,  True,\n",
       "          True,  True, False,  True, False,  True,  True,  True,  True]),\n",
       " tensor([False,  True, False,  True, False,  True, False,  True,  True,  True,\n",
       "          True,  True, False,  True, False,  True,  True,  True,  True]),\n",
       " tensor([False,  True, False,  True, False,  True, False,  True,  True,  True,\n",
       "          True,  True, False,  True, False,  True,  True,  True,  True]),\n",
       " tensor([False,  True, False, False, False,  True, False,  True,  True,  True,\n",
       "          True,  True, False,  True, False,  True,  True,  True,  True]),\n",
       " tensor([False,  True, False, False,  True,  True, False,  True,  True,  True,\n",
       "          True,  True, False,  True, False,  True,  True,  True,  True]),\n",
       " tensor([False,  True, False, False,  True, False, False,  True,  True,  True,\n",
       "          True,  True, False,  True, False,  True,  True,  True,  True]),\n",
       " tensor([False,  True, False, False,  True, False,  True,  True,  True,  True,\n",
       "          True,  True, False,  True, False,  True,  True,  True,  True]),\n",
       " tensor([False,  True, False, False,  True, False,  True, False,  True,  True,\n",
       "          True,  True, False,  True, False,  True,  True,  True,  True]),\n",
       " tensor([False,  True, False, False,  True, False,  True, False,  True,  True,\n",
       "          True,  True, False,  True, False,  True,  True,  True,  True]),\n",
       " tensor([False,  True, False, False,  True, False,  True, False,  True,  True,\n",
       "          True,  True, False,  True, False,  True,  True,  True,  True]),\n",
       " tensor([False,  True, False, False,  True, False,  True, False,  True,  True,\n",
       "          True,  True, False,  True, False,  True,  True,  True,  True]),\n",
       " tensor([False,  True, False, False,  True, False,  True, False,  True,  True,\n",
       "          True,  True, False,  True, False,  True,  True,  True,  True]),\n",
       " tensor([False,  True, False, False,  True, False,  True, False,  True,  True,\n",
       "          True,  True,  True,  True, False,  True,  True,  True,  True]),\n",
       " tensor([False,  True, False, False,  True, False,  True, False,  True,  True,\n",
       "          True,  True,  True, False, False,  True,  True,  True,  True]),\n",
       " tensor([False,  True, False, False,  True, False,  True, False,  True,  True,\n",
       "          True,  True,  True, False,  True,  True,  True,  True,  True]),\n",
       " tensor([False,  True, False, False,  True, False,  True, False,  True,  True,\n",
       "          True,  True,  True, False,  True, False,  True,  True,  True]),\n",
       " tensor([False,  True, False, False,  True, False,  True, False,  True,  True,\n",
       "          True,  True,  True, False,  True, False,  True,  True,  True]),\n",
       " tensor([False,  True, False, False,  True, False,  True, False,  True,  True,\n",
       "          True,  True,  True, False,  True, False,  True,  True,  True]),\n",
       " tensor([False,  True, False, False,  True, False,  True, False,  True,  True,\n",
       "          True,  True,  True, False,  True, False,  True,  True,  True])]"
      ]
     },
     "execution_count": 15,
     "metadata": {},
     "output_type": "execute_result"
    }
   ],
   "source": [
    "pdbs"
   ]
  },
  {
   "cell_type": "code",
   "execution_count": null,
   "metadata": {},
   "outputs": [],
   "source": []
  }
 ],
 "metadata": {
  "kernelspec": {
   "display_name": "Python 3",
   "language": "python",
   "name": "python3"
  },
  "language_info": {
   "codemirror_mode": {
    "name": "ipython",
    "version": 3
   },
   "file_extension": ".py",
   "mimetype": "text/x-python",
   "name": "python",
   "nbconvert_exporter": "python",
   "pygments_lexer": "ipython3",
   "version": "3.8.5"
  }
 },
 "nbformat": 4,
 "nbformat_minor": 4
}
