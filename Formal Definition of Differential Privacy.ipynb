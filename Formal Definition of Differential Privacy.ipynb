{
 "cells": [
  {
   "cell_type": "markdown",
   "metadata": {},
   "source": [
    "Now the we try to get the formal definition of Differential Privacy and with that look at Global Differential Privacy. With Global Differential Privacy our goal is to find out how much noise to add to the output of a query to noise up the entire query or database with one block of noise."
   ]
  },
  {
   "cell_type": "markdown",
   "metadata": {},
   "source": [
    "We have two different measures called epsilon and delta which compose the threshold for leakage. Basically when we talk about Global Differential Privacy we want to add the noise to the output of a function on the database. This adding the noise after the computation is done because we now need to add less noise and get greater accuracy. This is the case because the function computation reduces the sensitivity to some extent too. Thus, if we can wait to add the noise till after the function computation is done we can get more accurate results."
   ]
  },
  {
   "cell_type": "markdown",
   "metadata": {},
   "source": [
    "Now we go through the formal definition of Differential Privacy as proposed by Cynthia Dwork:\n",
    "![alt text](dp_formula.png \"Title\")"
   ]
  },
  {
   "cell_type": "markdown",
   "metadata": {},
   "source": [
    "_Image From: \"The Algorithmic Foundations of Differential Privacy\" - Cynthia Dwork and Aaron Roth - https://www.cis.upenn.edu/~aaroth/Papers/privacybook.pdf_"
   ]
  },
  {
   "cell_type": "markdown",
   "metadata": {},
   "source": [
    "Here, epsilon and delta comprise what is called as the Privacy Budget. Basically the above inequality means that the probability of leakage of information by our differentially private mechanism/algorithm, M, is epsilon. And the probability that we're gonna have a privacy leakage above epsilon is delta."
   ]
  },
  {
   "cell_type": "markdown",
   "metadata": {},
   "source": [
    "### How Much Noise Should Be Added\n",
    "\n",
    "Now we're leavinng the idea of Local Differential Privacy behind. But for Global Differential Privacy we need to know how much noise should be added to the output of our query. Also, there is the question of what type of noise should be added, it can be Laplacian or Gaussian. The amount of noise should also be appropriate to satisfy our privacy budget(epsilon, delta). It is also affected by the sensitivity of the query that we're gonna perform. So, to sum up the amount of noise to be added to the output of our query depends on the following parameters:\n",
    "- The type of noise(Laplacian/Gaussian)\n",
    "- Sensitivity of our query function\n",
    "- Epsilon value\n",
    "- Delta value\n",
    "\n",
    "Now here we're gonna work with Laplacian noise. Secondly the delta value is zero for Laplacian noise. Then the amount of Laplacian noise to be increased or decreased is scaled by a parameter called beta(b), which is given by, \n",
    "        \n",
    "        b = sensitiviy(Query)/epsilon\n",
    "\n",
    "So, now when we set b to this value we're gonna have a privacy leakage of <= epsilon."
   ]
  },
  {
   "cell_type": "markdown",
   "metadata": {},
   "source": [
    "# Project : Create A Differentially Private Query"
   ]
  },
  {
   "cell_type": "code",
   "execution_count": 1,
   "metadata": {},
   "outputs": [],
   "source": [
    "# First we set our privacy budget, epsilon to 0.5\n",
    "epsilon = 0.5"
   ]
  },
  {
   "cell_type": "code",
   "execution_count": 3,
   "metadata": {},
   "outputs": [],
   "source": [
    "import numpy as np\n",
    "\n",
    "# Time to bring in the required functions from previous projects\n",
    "\n",
    "import torch\n",
    "\n",
    "def get_parallel_db(db,remove_index):\n",
    "    return torch.cat((db[0:remove_index], db[remove_index+1:]))\n",
    "\n",
    "def get_parallel_dbs(db):\n",
    "    parallel_dbs = list()\n",
    "    \n",
    "    for i in range(len(db)):\n",
    "        parallel_dbs.append(get_parallel_db(db, i))\n",
    "    \n",
    "    return parallel_dbs\n",
    "\n",
    "def create_db_and_pdbs(num_entries):\n",
    "    \n",
    "    db = (torch.rand(num_entries) > 0.5).float()\n",
    "    pdbs = get_parallel_dbs(db)\n",
    "    \n",
    "    return db, pdbs"
   ]
  },
  {
   "cell_type": "code",
   "execution_count": 4,
   "metadata": {},
   "outputs": [],
   "source": [
    "db, pdbs = create_db_and_pdbs(100)"
   ]
  },
  {
   "cell_type": "code",
   "execution_count": 8,
   "metadata": {},
   "outputs": [],
   "source": [
    "# Now since we're working with databases filled with binary values we know that we get a sensitivity of 1 for the sum query\n",
    "# Here's our sum query\n",
    "def sum_query(db):\n",
    "    return db.sum()"
   ]
  },
  {
   "cell_type": "code",
   "execution_count": 9,
   "metadata": {},
   "outputs": [],
   "source": [
    "# Now we're ready to define our Laplacian Mecchanism\n",
    "def laplacian_mechanism(db, query, sensitivity):\n",
    "    \n",
    "    beta = sensitivity/epsilon\n",
    "    noise = torch.tensor(np.random.laplace(0, beta, 1))\n",
    "    return query(db) + noise"
   ]
  },
  {
   "cell_type": "code",
   "execution_count": 10,
   "metadata": {},
   "outputs": [
    {
     "data": {
      "text/plain": [
       "tensor(49.)"
      ]
     },
     "execution_count": 10,
     "metadata": {},
     "output_type": "execute_result"
    }
   ],
   "source": [
    "# This is the true result of our sum query\n",
    "sum_query(db)"
   ]
  },
  {
   "cell_type": "code",
   "execution_count": 14,
   "metadata": {},
   "outputs": [
    {
     "data": {
      "text/plain": [
       "tensor([47.0640], dtype=torch.float64)"
      ]
     },
     "execution_count": 14,
     "metadata": {},
     "output_type": "execute_result"
    }
   ],
   "source": [
    "# Now the result of the differentially private sum query which will be pretty close to our original query\n",
    "laplacian_mechanism(db, sum_query, 1)"
   ]
  },
  {
   "cell_type": "code",
   "execution_count": 15,
   "metadata": {},
   "outputs": [],
   "source": [
    "# Lets do it for the mean query\n",
    "def mean_query(db):\n",
    "    return torch.mean(db.float())"
   ]
  },
  {
   "cell_type": "code",
   "execution_count": 16,
   "metadata": {},
   "outputs": [
    {
     "data": {
      "text/plain": [
       "tensor(0.4900)"
      ]
     },
     "execution_count": 16,
     "metadata": {},
     "output_type": "execute_result"
    }
   ],
   "source": [
    "#Original mean\n",
    "mean_query(db)"
   ]
  },
  {
   "cell_type": "code",
   "execution_count": 18,
   "metadata": {},
   "outputs": [
    {
     "data": {
      "text/plain": [
       "tensor([0.4287], dtype=torch.float64)"
      ]
     },
     "execution_count": 18,
     "metadata": {},
     "output_type": "execute_result"
    }
   ],
   "source": [
    "# Differentially Private mean query, the sensitivity will be 1/100 as the number of entries is 100\n",
    "laplacian_mechanism(db, mean_query, 1/100)"
   ]
  },
  {
   "cell_type": "markdown",
   "metadata": {},
   "source": [
    "Now if we decrease the epsilon to a very small value we will get very less privacy leakage. But this means that th output of our query, now, is all over the place, that is, we are adding a huge amount of noise to the output. What happens is that we get a very huge beta and the Laplacian distribution gets very wide."
   ]
  },
  {
   "cell_type": "code",
   "execution_count": 19,
   "metadata": {},
   "outputs": [
    {
     "data": {
      "text/plain": [
       "tensor([20480.5128], dtype=torch.float64)"
      ]
     },
     "execution_count": 19,
     "metadata": {},
     "output_type": "execute_result"
    }
   ],
   "source": [
    "epsilon = 0.0001\n",
    "\n",
    "laplacian_mechanism(db, sum_query, 1)"
   ]
  },
  {
   "cell_type": "code",
   "execution_count": 20,
   "metadata": {},
   "outputs": [
    {
     "data": {
      "text/plain": [
       "tensor([320.8145], dtype=torch.float64)"
      ]
     },
     "execution_count": 20,
     "metadata": {},
     "output_type": "execute_result"
    }
   ],
   "source": [
    "#Similarly for the mean query\n",
    "laplacian_mechanism(db, mean_query, 1/100)"
   ]
  },
  {
   "cell_type": "code",
   "execution_count": null,
   "metadata": {},
   "outputs": [],
   "source": []
  }
 ],
 "metadata": {
  "kernelspec": {
   "display_name": "Python 3",
   "language": "python",
   "name": "python3"
  },
  "language_info": {
   "codemirror_mode": {
    "name": "ipython",
    "version": 3
   },
   "file_extension": ".py",
   "mimetype": "text/x-python",
   "name": "python",
   "nbconvert_exporter": "python",
   "pygments_lexer": "ipython3",
   "version": "3.8.5"
  }
 },
 "nbformat": 4,
 "nbformat_minor": 4
}
