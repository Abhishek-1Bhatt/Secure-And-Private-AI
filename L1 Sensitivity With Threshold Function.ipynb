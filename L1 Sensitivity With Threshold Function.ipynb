{
 "cells": [
  {
   "cell_type": "markdown",
   "metadata": {},
   "source": [
    "Here we perform a query on a database like sum before but return whether the sum is above or below a certain threshold.\n",
    "\n",
    "The steps for this project are:\n",
    "\n",
    "1) Create the above described query function\n",
    "\n",
    "2) Create 10 databases of size 10 and query them with a threshold of 5\n",
    "\n",
    "3) Print out the sensitivity of all the 10 databases"
   ]
  },
  {
   "cell_type": "code",
   "execution_count": 1,
   "metadata": {},
   "outputs": [],
   "source": [
    "import torch\n",
    "\n",
    "def th_query(db, threshold=5):\n",
    "    return (db.sum() > threshold).float()"
   ]
  },
  {
   "cell_type": "code",
   "execution_count": 4,
   "metadata": {},
   "outputs": [],
   "source": [
    "# first lets write our database generation function\n",
    "\n",
    "def get_parallel_db(db,remove_index):\n",
    "    return torch.cat((db[0:remove_index], db[remove_index+1:]))\n",
    "\n",
    "def get_parallel_dbs(db):\n",
    "    parallel_dbs = list()\n",
    "    \n",
    "    for i in range(len(db)):\n",
    "        parallel_dbs.append(get_parallel_db(db, i))\n",
    "    \n",
    "    return parallel_dbs\n",
    "\n",
    "def create_db_and_pdbs(num_entries):\n",
    "    \n",
    "    db = torch.rand(num_entries) > 0.5\n",
    "    pdbs = get_parallel_dbs(db)\n",
    "    \n",
    "    return db, pdbs"
   ]
  },
  {
   "cell_type": "code",
   "execution_count": 22,
   "metadata": {},
   "outputs": [
    {
     "data": {
      "text/plain": [
       "tensor(1.)"
      ]
     },
     "execution_count": 22,
     "metadata": {},
     "output_type": "execute_result"
    }
   ],
   "source": [
    "db, pdbs = create_db_and_pdbs(10)\n",
    "th_query(db) #sometimes we get 1(True) and at others 0(False) as we rerun the cell"
   ]
  },
  {
   "cell_type": "code",
   "execution_count": 23,
   "metadata": {},
   "outputs": [
    {
     "data": {
      "text/plain": [
       "tensor(6)"
      ]
     },
     "execution_count": 23,
     "metadata": {},
     "output_type": "execute_result"
    }
   ],
   "source": [
    "# lets take a db with sum 6\n",
    "db.sum()"
   ]
  },
  {
   "cell_type": "code",
   "execution_count": 36,
   "metadata": {},
   "outputs": [
    {
     "name": "stdout",
     "output_type": "stream",
     "text": [
      "0\n",
      "0\n",
      "0\n",
      "0\n",
      "0\n",
      "0\n",
      "0\n",
      "0\n",
      "tensor(1.)\n",
      "tensor(1.)\n"
     ]
    }
   ],
   "source": [
    "# Now the query returns true and hence some pdbs will give 0 output for the query as one person is removed from them\n",
    "# However with only 4 as sum we will have no sensitivity at all\n",
    "# Now we can evaluate the sensitivity for 10 ddbs andtheir pdbs using the sensitivity function\n",
    "\n",
    "def sensitivity(query, num_entries):\n",
    "    db = torch.rand(num_entries)>0.5\n",
    "    pdbs = list()\n",
    "    for i in range(len(db)):\n",
    "        pdbs.append(torch.cat((db[0:i], db[i+1:])))\n",
    "    full_db_result = query(db)\n",
    "    max_distance = 0\n",
    "    for pdb in pdbs:\n",
    "        pdb_result = query(pdb)\n",
    "        db_distance = torch.abs(pdb_result - full_db_result)\n",
    "        if db_distance > max_distance:\n",
    "            max_distance = db_distance\n",
    "    return max_distance\n",
    "\n",
    "for i in range(10):\n",
    "    sens_f = sensitivity(th_query, num_entries=10)\n",
    "    print(sens_f)"
   ]
  },
  {
   "cell_type": "code",
   "execution_count": null,
   "metadata": {},
   "outputs": [],
   "source": [
    "# Here our new threshold query has a variable sensitivity because when a database has sum 6 we get a maximum \n",
    "# sensitivity of 1 and if the sum of the database is below 6 then its definitely a 0 regaardess of who we \n",
    "# remove. Same is the case when we have a sum greater than 6 then sensitvity will always be 1."
   ]
  }
 ],
 "metadata": {
  "kernelspec": {
   "display_name": "Python 3",
   "language": "python",
   "name": "python3"
  },
  "language_info": {
   "codemirror_mode": {
    "name": "ipython",
    "version": 3
   },
   "file_extension": ".py",
   "mimetype": "text/x-python",
   "name": "python",
   "nbconvert_exporter": "python",
   "pygments_lexer": "ipython3",
   "version": "3.8.5"
  }
 },
 "nbformat": 4,
 "nbformat_minor": 4
}
