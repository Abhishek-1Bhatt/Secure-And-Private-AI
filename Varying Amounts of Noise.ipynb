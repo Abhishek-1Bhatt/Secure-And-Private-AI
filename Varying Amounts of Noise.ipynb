{
 "cells": [
  {
   "cell_type": "markdown",
   "metadata": {},
   "source": [
    "Now we're going to add the functionality of varying the amount of noise in the data"
   ]
  },
  {
   "cell_type": "code",
   "execution_count": 1,
   "metadata": {},
   "outputs": [],
   "source": [
    "# Database generation funcitions\n",
    "\n",
    "import torch\n",
    "\n",
    "def get_parallel_db(db,remove_index):\n",
    "    return torch.cat((db[0:remove_index], db[remove_index+1:]))\n",
    "\n",
    "def get_parallel_dbs(db):\n",
    "    parallel_dbs = list()\n",
    "    \n",
    "    for i in range(len(db)):\n",
    "        parallel_dbs.append(get_parallel_db(db, i))\n",
    "    \n",
    "    return parallel_dbs\n",
    "\n",
    "def create_db_and_pdbs(num_entries):\n",
    "    \n",
    "    db = (torch.rand(num_entries) > 0.5).float()\n",
    "    pdbs = get_parallel_dbs(db)\n",
    "    \n",
    "    return db, pdbs"
   ]
  },
  {
   "cell_type": "code",
   "execution_count": 4,
   "metadata": {},
   "outputs": [],
   "source": [
    "# Now we can write our altered query function\n",
    "# Since we want to change/bias the first coin flip we can add a noise parameter which acts as a threshold\n",
    "# Now what's left is to de-skew the outcome of our noised dataset acordingly\n",
    "def query(db, noise=0.2):\n",
    "    true_result = torch.mean(db.float())\n",
    "    first_coin_flip = (torch.rand(len(db))>noise).float()\n",
    "    second_coin_flip = (torch.rand(len(db))>0.5).float()\n",
    "    augmented_database = db.float()*first_coin_flip+(1-first_coin_flip)*second_coin_flip\n",
    "    # Here we have de-skewed the mean to be closer to the mean of the original database\n",
    "    skewed_res = augmented_database.float().mean()\n",
    "    private_result = ((skewed_res/noise)-0.5)*noise/(1-noise)\n",
    "    \n",
    "    # dp_result = torch.mean(augmented_database.float())*2-0.5\n",
    "    return private_result, true_result"
   ]
  },
  {
   "cell_type": "code",
   "execution_count": 5,
   "metadata": {},
   "outputs": [
    {
     "name": "stdout",
     "output_type": "stream",
     "text": [
      "With Noise:tensor(0.4222)\n",
      "Without Noise:tensor(0.4400)\n"
     ]
    }
   ],
   "source": [
    "# Now we can conduct an experment to see how the query differs with varying amounts of noise added\n",
    "db, pdbs = create_db_and_pdbs(100)\n",
    "private_result, true_result = query(db, noise=0.1)\n",
    "print(\"With Noise:\"+str(private_result))\n",
    "print(\"Without Noise:\"+str(true_result))"
   ]
  },
  {
   "cell_type": "code",
   "execution_count": 6,
   "metadata": {},
   "outputs": [
    {
     "name": "stdout",
     "output_type": "stream",
     "text": [
      "With Noise:tensor(0.4375)\n",
      "Without Noise:tensor(0.4700)\n"
     ]
    }
   ],
   "source": [
    "db, pdbs = create_db_and_pdbs(100)\n",
    "private_result, true_result = query(db, noise=0.2)\n",
    "print(\"With Noise:\"+str(private_result))\n",
    "print(\"Without Noise:\"+str(true_result))"
   ]
  },
  {
   "cell_type": "code",
   "execution_count": 7,
   "metadata": {},
   "outputs": [
    {
     "name": "stdout",
     "output_type": "stream",
     "text": [
      "With Noise:tensor(0.4667)\n",
      "Without Noise:tensor(0.4900)\n"
     ]
    }
   ],
   "source": [
    "db, pdbs = create_db_and_pdbs(100)\n",
    "private_result, true_result = query(db, noise=0.4)\n",
    "print(\"With Noise:\"+str(private_result))\n",
    "print(\"Without Noise:\"+str(true_result))"
   ]
  },
  {
   "cell_type": "code",
   "execution_count": 8,
   "metadata": {},
   "outputs": [
    {
     "name": "stdout",
     "output_type": "stream",
     "text": [
      "With Noise:tensor(0.6500)\n",
      "Without Noise:tensor(0.5400)\n"
     ]
    }
   ],
   "source": [
    "db, pdbs = create_db_and_pdbs(100)\n",
    "private_result, true_result = query(db, noise=0.8)\n",
    "print(\"With Noise:\"+str(private_result))\n",
    "print(\"Without Noise:\"+str(true_result))"
   ]
  },
  {
   "cell_type": "code",
   "execution_count": 11,
   "metadata": {},
   "outputs": [
    {
     "name": "stdout",
     "output_type": "stream",
     "text": [
      "With Noise:tensor(0.5020)\n",
      "Without Noise:tensor(0.5037)\n"
     ]
    }
   ],
   "source": [
    "# As seen above the difference increases significantly as the noise increases\n",
    "# We can counter the increasing noise with increasing the size of the database\n",
    "db, pdbs = create_db_and_pdbs(10000)\n",
    "private_result, true_result = query(db, noise=0.8)\n",
    "print(\"With Noise:\"+str(private_result))\n",
    "print(\"Without Noise:\"+str(true_result))"
   ]
  },
  {
   "cell_type": "markdown",
   "metadata": {},
   "source": [
    "Thus the larger the dataset the more privacy protection we can provide to the individuals in the dataset"
   ]
  },
  {
   "cell_type": "code",
   "execution_count": null,
   "metadata": {},
   "outputs": [],
   "source": []
  }
 ],
 "metadata": {
  "kernelspec": {
   "display_name": "Python 3",
   "language": "python",
   "name": "python3"
  },
  "language_info": {
   "codemirror_mode": {
    "name": "ipython",
    "version": 3
   },
   "file_extension": ".py",
   "mimetype": "text/x-python",
   "name": "python",
   "nbconvert_exporter": "python",
   "pygments_lexer": "ipython3",
   "version": "3.8.5"
  }
 },
 "nbformat": 4,
 "nbformat_minor": 4
}
